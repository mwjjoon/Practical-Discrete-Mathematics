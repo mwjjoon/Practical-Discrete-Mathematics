{
  "cells": [
    {
      "cell_type": "markdown",
      "metadata": {
        "id": "view-in-github",
        "colab_type": "text"
      },
      "source": [
        "<a href=\"https://colab.research.google.com/github/mwjjoon/Practical-Discrete-Mathematics/blob/master/Chapter%2001%20-%20Introduction/Chapter1.ipynb\" target=\"_parent\"><img src=\"https://colab.research.google.com/assets/colab-badge.svg\" alt=\"Open In Colab\"/></a>"
      ]
    },
    {
      "cell_type": "markdown",
      "metadata": {
        "id": "FP8ZqWG2uky8"
      },
      "source": [
        "# Chapter 1 - Introduction: Key Concepts, Notation, Set Theory, Relations, and Functions\n",
        "\n",
        "This notebook contains code accompanying Chapter 1 Introduction: Key Concepts, Notation, Set Theory, Relations, and Functions in *Practical Discrete Mathematics* by Ryan T. White and Archana Tikayat Ray\n",
        "\n",
        "## Functions and Relations\n",
        "\n",
        "### The `sort()` function"
      ]
    },
    {
      "cell_type": "code",
      "execution_count": 1,
      "metadata": {
        "id": "6gXDhW5quky9",
        "outputId": "fd215f90-426e-45ca-b199-433a318edc9d",
        "colab": {
          "base_uri": "https://localhost:8080/"
        }
      },
      "outputs": [
        {
          "output_type": "stream",
          "name": "stdout",
          "text": [
            "[1, 2, 3, 4, 5, 8, 9, 12]\n",
            "['Brandon', 'Elise', 'Eugene', 'Kumar', 'Wyatt']\n"
          ]
        }
      ],
      "source": [
        "numbers = [3, 1, 4, 12, 8, 5, 2, 9]\n",
        "names = ['Wyatt', 'Brandon', 'Kumar', 'Eugene', 'Elise']\n",
        "\n",
        "# Apply the sort() function to the lists\n",
        "numbers.sort()\n",
        "names.sort()\n",
        "\n",
        "# Display the output\n",
        "print(numbers)\n",
        "print(names)"
      ]
    },
    {
      "cell_type": "markdown",
      "metadata": {
        "id": "PFQB9JMCuky-"
      },
      "source": [
        "### The `shuffle()` function"
      ]
    },
    {
      "cell_type": "code",
      "execution_count": null,
      "metadata": {
        "id": "6_7PrJbRuky-",
        "outputId": "30335319-523b-4d5e-d9c2-8557826f43e4"
      },
      "outputs": [
        {
          "name": "stdout",
          "output_type": "stream",
          "text": [
            "[12, 2, 1, 5, 9, 3, 8, 4]\n",
            "[4, 2, 8, 3, 1, 12, 5, 9]\n",
            "[4, 5, 1, 9, 3, 8, 12, 2]\n",
            "[9, 12, 2, 8, 5, 3, 4, 1]\n",
            "[9, 8, 4, 3, 12, 1, 5, 2]\n"
          ]
        }
      ],
      "source": [
        "import random\n",
        "\n",
        "# Set a random seed so the code is reproducible\n",
        "random.seed(1)\n",
        "\n",
        "# Run the random.shuffle() function 5 times and display the outputs\n",
        "for i in range(0,5):\n",
        "    numbers = [3, 1, 4, 12, 8, 5, 2, 9]\n",
        "    random.shuffle(numbers)\n",
        "    print(numbers)"
      ]
    },
    {
      "cell_type": "code",
      "source": [
        "import itertools\n",
        "\n",
        "def generate_truth_table(variables):\n",
        "    # Number of rows in the truth table\n",
        "    num_rows = 2 ** len(variables)\n",
        "\n",
        "    # Create the header of the truth table\n",
        "    header = variables + ['Proposition']\n",
        "    truth_table = []\n",
        "\n",
        "    # Generate all combinations of truth values\n",
        "    for combination in itertools.product([True, False], repeat=len(variables)):\n",
        "        row = list(combination)\n",
        "        # Evaluate the proposition (for simplicity, we will just print the row)\n",
        "        proposition_value = evaluate_proposition(row, variables)\n",
        "        row.append(proposition_value)\n",
        "        truth_table.append(row)\n",
        "\n",
        "    return header, truth_table\n",
        "\n",
        "def evaluate_proposition(values, variables):\n",
        "    # For demonstration, we will just return a simple evaluation\n",
        "    # Here, you can replace this with actual logic to evaluate a proposition\n",
        "    # For example, if the proposition is \"A and B\", you would evaluate it accordingly\n",
        "    # This is a placeholder for demonstration purposes\n",
        "    return values[0] and values[1] if len(values) > 1 else values[0]\n",
        "\n",
        "def print_truth_table(header, truth_table):\n",
        "    # Print the header\n",
        "    print(\" | \".join(header))\n",
        "    print(\"-\" * (len(header) * 10))\n",
        "    # Print each row of the truth table\n",
        "    for row in truth_table:\n",
        "        print(\" | \".join(str(int(value)) for value in row))\n",
        "\n",
        "# Main program\n",
        "if __name__ == \"__main__\":\n",
        "    # Request user input\n",
        "    proposition = input(\"Enter a simple proposition statement (e.g., A and B): \")\n",
        "\n",
        "    # For simplicity, we will consider only two variables A and B\n",
        "    variables = ['A', 'B', 'C', 'D', 'E', 'F']\n",
        "\n",
        "    # Generate the truth table\n",
        "    header, truth_table = generate_truth_table(variables)\n",
        "\n",
        "    # Print the truth table\n",
        "    print_truth_table(header, truth_table)"
      ],
      "metadata": {
        "id": "V9Pa_GvOy893",
        "outputId": "ef22f270-ba0a-4989-ab37-d923cbe71377",
        "colab": {
          "base_uri": "https://localhost:8080/"
        }
      },
      "execution_count": 7,
      "outputs": [
        {
          "output_type": "stream",
          "name": "stdout",
          "text": [
            "Enter a simple proposition statement (e.g., A and B): abcdf\n",
            "A | B | C | D | E | F | Proposition\n",
            "----------------------------------------------------------------------\n",
            "1 | 1 | 1 | 1 | 1 | 1 | 1\n",
            "1 | 1 | 1 | 1 | 1 | 0 | 1\n",
            "1 | 1 | 1 | 1 | 0 | 1 | 1\n",
            "1 | 1 | 1 | 1 | 0 | 0 | 1\n",
            "1 | 1 | 1 | 0 | 1 | 1 | 1\n",
            "1 | 1 | 1 | 0 | 1 | 0 | 1\n",
            "1 | 1 | 1 | 0 | 0 | 1 | 1\n",
            "1 | 1 | 1 | 0 | 0 | 0 | 1\n",
            "1 | 1 | 0 | 1 | 1 | 1 | 1\n",
            "1 | 1 | 0 | 1 | 1 | 0 | 1\n",
            "1 | 1 | 0 | 1 | 0 | 1 | 1\n",
            "1 | 1 | 0 | 1 | 0 | 0 | 1\n",
            "1 | 1 | 0 | 0 | 1 | 1 | 1\n",
            "1 | 1 | 0 | 0 | 1 | 0 | 1\n",
            "1 | 1 | 0 | 0 | 0 | 1 | 1\n",
            "1 | 1 | 0 | 0 | 0 | 0 | 1\n",
            "1 | 0 | 1 | 1 | 1 | 1 | 0\n",
            "1 | 0 | 1 | 1 | 1 | 0 | 0\n",
            "1 | 0 | 1 | 1 | 0 | 1 | 0\n",
            "1 | 0 | 1 | 1 | 0 | 0 | 0\n",
            "1 | 0 | 1 | 0 | 1 | 1 | 0\n",
            "1 | 0 | 1 | 0 | 1 | 0 | 0\n",
            "1 | 0 | 1 | 0 | 0 | 1 | 0\n",
            "1 | 0 | 1 | 0 | 0 | 0 | 0\n",
            "1 | 0 | 0 | 1 | 1 | 1 | 0\n",
            "1 | 0 | 0 | 1 | 1 | 0 | 0\n",
            "1 | 0 | 0 | 1 | 0 | 1 | 0\n",
            "1 | 0 | 0 | 1 | 0 | 0 | 0\n",
            "1 | 0 | 0 | 0 | 1 | 1 | 0\n",
            "1 | 0 | 0 | 0 | 1 | 0 | 0\n",
            "1 | 0 | 0 | 0 | 0 | 1 | 0\n",
            "1 | 0 | 0 | 0 | 0 | 0 | 0\n",
            "0 | 1 | 1 | 1 | 1 | 1 | 0\n",
            "0 | 1 | 1 | 1 | 1 | 0 | 0\n",
            "0 | 1 | 1 | 1 | 0 | 1 | 0\n",
            "0 | 1 | 1 | 1 | 0 | 0 | 0\n",
            "0 | 1 | 1 | 0 | 1 | 1 | 0\n",
            "0 | 1 | 1 | 0 | 1 | 0 | 0\n",
            "0 | 1 | 1 | 0 | 0 | 1 | 0\n",
            "0 | 1 | 1 | 0 | 0 | 0 | 0\n",
            "0 | 1 | 0 | 1 | 1 | 1 | 0\n",
            "0 | 1 | 0 | 1 | 1 | 0 | 0\n",
            "0 | 1 | 0 | 1 | 0 | 1 | 0\n",
            "0 | 1 | 0 | 1 | 0 | 0 | 0\n",
            "0 | 1 | 0 | 0 | 1 | 1 | 0\n",
            "0 | 1 | 0 | 0 | 1 | 0 | 0\n",
            "0 | 1 | 0 | 0 | 0 | 1 | 0\n",
            "0 | 1 | 0 | 0 | 0 | 0 | 0\n",
            "0 | 0 | 1 | 1 | 1 | 1 | 0\n",
            "0 | 0 | 1 | 1 | 1 | 0 | 0\n",
            "0 | 0 | 1 | 1 | 0 | 1 | 0\n",
            "0 | 0 | 1 | 1 | 0 | 0 | 0\n",
            "0 | 0 | 1 | 0 | 1 | 1 | 0\n",
            "0 | 0 | 1 | 0 | 1 | 0 | 0\n",
            "0 | 0 | 1 | 0 | 0 | 1 | 0\n",
            "0 | 0 | 1 | 0 | 0 | 0 | 0\n",
            "0 | 0 | 0 | 1 | 1 | 1 | 0\n",
            "0 | 0 | 0 | 1 | 1 | 0 | 0\n",
            "0 | 0 | 0 | 1 | 0 | 1 | 0\n",
            "0 | 0 | 0 | 1 | 0 | 0 | 0\n",
            "0 | 0 | 0 | 0 | 1 | 1 | 0\n",
            "0 | 0 | 0 | 0 | 1 | 0 | 0\n",
            "0 | 0 | 0 | 0 | 0 | 1 | 0\n",
            "0 | 0 | 0 | 0 | 0 | 0 | 0\n"
          ]
        }
      ]
    },
    {
      "cell_type": "code",
      "source": [
        "# Define the truth values for p and q\n",
        "truth_values = [True, False]\n",
        "\n",
        "# Create a header for the truth table\n",
        "print(f\"{'p':<5} {'q':<5} {'p AND q':<10}\")\n",
        "\n",
        "# Iterate over all possible truth values of p and q\n",
        "for p in truth_values:\n",
        "    for q in truth_values:\n",
        "        result = p and q\n",
        "        print(f\"{p:<5} {q:<5} {result:<10}\")\n"
      ],
      "metadata": {
        "id": "liTNH-5m4Pwo",
        "outputId": "933bd01b-e5fc-487a-ad1d-61966a051d85",
        "colab": {
          "base_uri": "https://localhost:8080/"
        }
      },
      "execution_count": 16,
      "outputs": [
        {
          "output_type": "stream",
          "name": "stdout",
          "text": [
            "p     q     p AND q   \n",
            "1     1     1         \n",
            "1     0     0         \n",
            "0     1     0         \n",
            "0     0     0         \n"
          ]
        }
      ]
    },
    {
      "cell_type": "markdown",
      "source": [
        "Question: Request user input of a simple proposition statement. Create a truth table."
      ],
      "metadata": {
        "id": "44l6e86vyu7H"
      }
    },
    {
      "cell_type": "code",
      "source": [
        "# Define the truth values for p and q\n",
        "truth_values = [True, False]\n",
        "\n",
        "# Create a header for the truth table\n",
        "print(f\"{'p':<5} {'q':<5} {'p OR q':<10}\")\n",
        "print(\"-\" * 20)  # Add a line separator\n",
        "\n",
        "# Iterate over all possible truth values of p and q\n",
        "for p in truth_values:\n",
        "    for q in truth_values:\n",
        "        result = p or q\n",
        "        print(f\"{str(p):<5} {str(q):<5} {str(result):<10}\")\n"
      ],
      "metadata": {
        "id": "nKYn0Hno54bc",
        "outputId": "3168cd8e-007d-4c22-e360-54d7fd857200",
        "colab": {
          "base_uri": "https://localhost:8080/"
        }
      },
      "execution_count": 22,
      "outputs": [
        {
          "output_type": "stream",
          "name": "stdout",
          "text": [
            "p     q     p OR q    \n",
            "--------------------\n",
            "True  True  True      \n",
            "True  False True      \n",
            "False True  True      \n",
            "False False False     \n"
          ]
        }
      ]
    }
  ],
  "metadata": {
    "kernelspec": {
      "display_name": "Python 3.7 (DL)",
      "language": "python",
      "name": "dl"
    },
    "language_info": {
      "codemirror_mode": {
        "name": "ipython",
        "version": 3
      },
      "file_extension": ".py",
      "mimetype": "text/x-python",
      "name": "python",
      "nbconvert_exporter": "python",
      "pygments_lexer": "ipython3",
      "version": "3.7.7"
    },
    "colab": {
      "provenance": [],
      "include_colab_link": true
    }
  },
  "nbformat": 4,
  "nbformat_minor": 0
}