{
  "cells": [
    {
      "cell_type": "markdown",
      "metadata": {
        "id": "3PjVfKwX4YCw"
      },
      "source": [
        "# Chapter 6 - Computational Algorithms in Linear Algebra\n",
        "\n",
        "This notebook contains code accompanying Chapter 6 Computational Algorithms in Linear Algebra in *Practical Discrete Mathematics* by Ryan T. White and Archana Tikayat Ray.\n",
        "\n",
        "## Matrices and Matrix Representations of Linear Systems\n",
        "\n",
        "The code below stores matrices as `NumPy` arrays and prints specified entries of the matrices."
      ]
    },
    {
      "cell_type": "code",
      "execution_count": null,
      "metadata": {
        "id": "hBBdRSEk4YCx",
        "outputId": "f6d5e534-2008-4319-b76a-2f4159ed7504"
      },
      "outputs": [
        {
          "name": "stdout",
          "output_type": "stream",
          "text": [
            "3\n",
            "1\n"
          ]
        }
      ],
      "source": [
        "import numpy\n",
        "\n",
        "# initialize matrices\n",
        "A = numpy.array([[3, 2, 1], [9, 0, 1], [3, 4, 1]])\n",
        "B = numpy.array([[1, 1, 2], [8, 4, 1], [0, 0, 3]])\n",
        "\n",
        "# print the entry in the first row and first column of A\n",
        "print(A[0,0])\n",
        "\n",
        "# print the entry in the second row and third column of B\n",
        "print(B[1,2])"
      ]
    },
    {
      "cell_type": "markdown",
      "metadata": {
        "id": "GctFB2dd4YCy"
      },
      "source": [
        "### Example: Matrix Addition and Subtraction"
      ]
    },
    {
      "cell_type": "code",
      "execution_count": null,
      "metadata": {
        "id": "FmHNwBbt4YCz",
        "outputId": "30bda3bd-6ab8-42a5-d1c8-2fdb30c714e6"
      },
      "outputs": [
        {
          "name": "stdout",
          "output_type": "stream",
          "text": [
            "[[ 4  3  3]\n",
            " [17  4  2]\n",
            " [ 3  4  4]]\n",
            "[[ 2  1 -1]\n",
            " [ 1 -4  0]\n",
            " [ 3  4 -2]]\n"
          ]
        }
      ],
      "source": [
        "# Add A and B\n",
        "print(numpy.add(A,B))\n",
        "\n",
        "# Subtract A and B\n",
        "print(numpy.subtract(A,B))"
      ]
    },
    {
      "cell_type": "markdown",
      "metadata": {
        "id": "dBDzj_uH4YCz"
      },
      "source": [
        "### Example: Scalar Multiplication and Transpose"
      ]
    },
    {
      "cell_type": "code",
      "execution_count": null,
      "metadata": {
        "id": "ye_g9E1g4YCz",
        "outputId": "87977068-379e-4723-8892-610bd97cc34a"
      },
      "outputs": [
        {
          "name": "stdout",
          "output_type": "stream",
          "text": [
            "[[15 10  5]\n",
            " [45  0  5]\n",
            " [15 20  5]]\n",
            "[[3 9 3]\n",
            " [2 0 4]\n",
            " [1 1 1]]\n"
          ]
        }
      ],
      "source": [
        "# Multiply A by a scalar 5\n",
        "print(numpy.multiply(5,A))\n",
        "\n",
        "# Find the transpose of A\n",
        "print(numpy.transpose(A))"
      ]
    },
    {
      "cell_type": "markdown",
      "metadata": {
        "id": "wbyNc98s4YCz"
      },
      "source": [
        "### Example: Matrix Multiplication and Transpose"
      ]
    },
    {
      "cell_type": "code",
      "execution_count": null,
      "metadata": {
        "id": "dJiiQ6Od4YCz",
        "outputId": "9d855ca7-8116-468b-b8f8-abe955c253ff"
      },
      "outputs": [
        {
          "name": "stdout",
          "output_type": "stream",
          "text": [
            "[[19 11 11]\n",
            " [ 9  9 21]\n",
            " [35 19 13]]\n"
          ]
        }
      ],
      "source": [
        "# Multiply A and B\n",
        "print(numpy.dot(A,B))"
      ]
    },
    {
      "cell_type": "markdown",
      "metadata": {
        "id": "6f61jNlM4YCz"
      },
      "source": [
        "## Solving Large Linear Systems with `NumPy`\n",
        "\n",
        "### Example: Solving $\\mathbf{Ax}=\\mathbf{b}$ for $\\mathbf{x}$"
      ]
    },
    {
      "cell_type": "code",
      "execution_count": null,
      "metadata": {
        "id": "y2HHvjVN4YCz",
        "outputId": "b0ced1ab-7efd-488d-999e-597a4e7a18e0"
      },
      "outputs": [
        {
          "data": {
            "text/plain": [
              "array([ 5.,  1., -2.])"
            ]
          },
          "execution_count": 10,
          "metadata": {},
          "output_type": "execute_result"
        }
      ],
      "source": [
        "import numpy\n",
        "\n",
        "# Create A and b matrices\n",
        "A = numpy.array([[2, -6, 6], [2, 3, -1], [4, -3, -1]])\n",
        "b = numpy.array([-8, 15, 19])\n",
        "\n",
        "# Solve Ax = b\n",
        "numpy.linalg.solve(A,b)\n"
      ]
    },
    {
      "cell_type": "markdown",
      "metadata": {
        "id": "dRDbQFCl4YCz"
      },
      "source": [
        "### Example: Inconsistent and Dependent Systems with `NumPy`"
      ]
    },
    {
      "cell_type": "code",
      "execution_count": null,
      "metadata": {
        "id": "9PatmicL4YC0",
        "outputId": "e1b505ff-0a2c-4264-8bc6-67af8ac7e756"
      },
      "outputs": [
        {
          "ename": "LinAlgError",
          "evalue": "Singular matrix",
          "output_type": "error",
          "traceback": [
            "\u001b[1;31m---------------------------------------------------------------------------\u001b[0m",
            "\u001b[1;31mLinAlgError\u001b[0m                               Traceback (most recent call last)",
            "\u001b[1;32m<ipython-input-14-88a6688b74fc>\u001b[0m in \u001b[0;36m<module>\u001b[1;34m\u001b[0m\n\u001b[0;32m      5\u001b[0m \u001b[0mb\u001b[0m \u001b[1;33m=\u001b[0m \u001b[0mnumpy\u001b[0m\u001b[1;33m.\u001b[0m\u001b[0marray\u001b[0m\u001b[1;33m(\u001b[0m\u001b[1;33m[\u001b[0m\u001b[1;36m3\u001b[0m\u001b[1;33m,\u001b[0m \u001b[1;36m3\u001b[0m\u001b[1;33m]\u001b[0m\u001b[1;33m)\u001b[0m\u001b[1;33m\u001b[0m\u001b[1;33m\u001b[0m\u001b[0m\n\u001b[0;32m      6\u001b[0m \u001b[1;33m\u001b[0m\u001b[0m\n\u001b[1;32m----> 7\u001b[1;33m \u001b[0mprint\u001b[0m\u001b[1;33m(\u001b[0m\u001b[0mnumpy\u001b[0m\u001b[1;33m.\u001b[0m\u001b[0mlinalg\u001b[0m\u001b[1;33m.\u001b[0m\u001b[0msolve\u001b[0m\u001b[1;33m(\u001b[0m\u001b[0mA\u001b[0m\u001b[1;33m,\u001b[0m\u001b[0mb\u001b[0m\u001b[1;33m)\u001b[0m\u001b[1;33m)\u001b[0m\u001b[1;33m\u001b[0m\u001b[1;33m\u001b[0m\u001b[0m\n\u001b[0m",
            "\u001b[1;32m<__array_function__ internals>\u001b[0m in \u001b[0;36msolve\u001b[1;34m(*args, **kwargs)\u001b[0m\n",
            "\u001b[1;32m~\\anaconda3\\envs\\DL\\lib\\site-packages\\numpy\\linalg\\linalg.py\u001b[0m in \u001b[0;36msolve\u001b[1;34m(a, b)\u001b[0m\n\u001b[0;32m    392\u001b[0m     \u001b[0msignature\u001b[0m \u001b[1;33m=\u001b[0m \u001b[1;34m'DD->D'\u001b[0m \u001b[1;32mif\u001b[0m \u001b[0misComplexType\u001b[0m\u001b[1;33m(\u001b[0m\u001b[0mt\u001b[0m\u001b[1;33m)\u001b[0m \u001b[1;32melse\u001b[0m \u001b[1;34m'dd->d'\u001b[0m\u001b[1;33m\u001b[0m\u001b[1;33m\u001b[0m\u001b[0m\n\u001b[0;32m    393\u001b[0m     \u001b[0mextobj\u001b[0m \u001b[1;33m=\u001b[0m \u001b[0mget_linalg_error_extobj\u001b[0m\u001b[1;33m(\u001b[0m\u001b[0m_raise_linalgerror_singular\u001b[0m\u001b[1;33m)\u001b[0m\u001b[1;33m\u001b[0m\u001b[1;33m\u001b[0m\u001b[0m\n\u001b[1;32m--> 394\u001b[1;33m     \u001b[0mr\u001b[0m \u001b[1;33m=\u001b[0m \u001b[0mgufunc\u001b[0m\u001b[1;33m(\u001b[0m\u001b[0ma\u001b[0m\u001b[1;33m,\u001b[0m \u001b[0mb\u001b[0m\u001b[1;33m,\u001b[0m \u001b[0msignature\u001b[0m\u001b[1;33m=\u001b[0m\u001b[0msignature\u001b[0m\u001b[1;33m,\u001b[0m \u001b[0mextobj\u001b[0m\u001b[1;33m=\u001b[0m\u001b[0mextobj\u001b[0m\u001b[1;33m)\u001b[0m\u001b[1;33m\u001b[0m\u001b[1;33m\u001b[0m\u001b[0m\n\u001b[0m\u001b[0;32m    395\u001b[0m \u001b[1;33m\u001b[0m\u001b[0m\n\u001b[0;32m    396\u001b[0m     \u001b[1;32mreturn\u001b[0m \u001b[0mwrap\u001b[0m\u001b[1;33m(\u001b[0m\u001b[0mr\u001b[0m\u001b[1;33m.\u001b[0m\u001b[0mastype\u001b[0m\u001b[1;33m(\u001b[0m\u001b[0mresult_t\u001b[0m\u001b[1;33m,\u001b[0m \u001b[0mcopy\u001b[0m\u001b[1;33m=\u001b[0m\u001b[1;32mFalse\u001b[0m\u001b[1;33m)\u001b[0m\u001b[1;33m)\u001b[0m\u001b[1;33m\u001b[0m\u001b[1;33m\u001b[0m\u001b[0m\n",
            "\u001b[1;32m~\\anaconda3\\envs\\DL\\lib\\site-packages\\numpy\\linalg\\linalg.py\u001b[0m in \u001b[0;36m_raise_linalgerror_singular\u001b[1;34m(err, flag)\u001b[0m\n\u001b[0;32m     86\u001b[0m \u001b[1;33m\u001b[0m\u001b[0m\n\u001b[0;32m     87\u001b[0m \u001b[1;32mdef\u001b[0m \u001b[0m_raise_linalgerror_singular\u001b[0m\u001b[1;33m(\u001b[0m\u001b[0merr\u001b[0m\u001b[1;33m,\u001b[0m \u001b[0mflag\u001b[0m\u001b[1;33m)\u001b[0m\u001b[1;33m:\u001b[0m\u001b[1;33m\u001b[0m\u001b[1;33m\u001b[0m\u001b[0m\n\u001b[1;32m---> 88\u001b[1;33m     \u001b[1;32mraise\u001b[0m \u001b[0mLinAlgError\u001b[0m\u001b[1;33m(\u001b[0m\u001b[1;34m\"Singular matrix\"\u001b[0m\u001b[1;33m)\u001b[0m\u001b[1;33m\u001b[0m\u001b[1;33m\u001b[0m\u001b[0m\n\u001b[0m\u001b[0;32m     89\u001b[0m \u001b[1;33m\u001b[0m\u001b[0m\n\u001b[0;32m     90\u001b[0m \u001b[1;32mdef\u001b[0m \u001b[0m_raise_linalgerror_nonposdef\u001b[0m\u001b[1;33m(\u001b[0m\u001b[0merr\u001b[0m\u001b[1;33m,\u001b[0m \u001b[0mflag\u001b[0m\u001b[1;33m)\u001b[0m\u001b[1;33m:\u001b[0m\u001b[1;33m\u001b[0m\u001b[1;33m\u001b[0m\u001b[0m\n",
            "\u001b[1;31mLinAlgError\u001b[0m: Singular matrix"
          ]
        }
      ],
      "source": [
        "import numpy\n",
        "\n",
        "# inconsistent system\n",
        "A = numpy.array([[2, 1], [6, 3]])\n",
        "b = numpy.array([3, 3])\n",
        "\n",
        "print(numpy.linalg.solve(A,b))"
      ]
    },
    {
      "cell_type": "markdown",
      "metadata": {
        "id": "GTiNC2FY4YC0"
      },
      "source": [
        "Note that the code throws an error because the matrix $\\mathbf{A}$ is singular since the system is inconsistent--i.e. there are no solutions."
      ]
    },
    {
      "cell_type": "code",
      "execution_count": 2,
      "metadata": {
        "id": "AiSUN0eK4YC0",
        "outputId": "ca380780-d118-4641-c706-be53a4f293f6",
        "colab": {
          "base_uri": "https://localhost:8080/",
          "height": 219
        }
      },
      "outputs": [
        {
          "output_type": "error",
          "ename": "NameError",
          "evalue": "name 'numpy' is not defined",
          "traceback": [
            "\u001b[0;31m---------------------------------------------------------------------------\u001b[0m",
            "\u001b[0;31mNameError\u001b[0m                                 Traceback (most recent call last)",
            "\u001b[0;32m<ipython-input-2-a7825dde56f3>\u001b[0m in \u001b[0;36m<cell line: 2>\u001b[0;34m()\u001b[0m\n\u001b[1;32m      1\u001b[0m \u001b[0;31m# dependent system\u001b[0m\u001b[0;34m\u001b[0m\u001b[0;34m\u001b[0m\u001b[0m\n\u001b[0;32m----> 2\u001b[0;31m \u001b[0mA\u001b[0m \u001b[0;34m=\u001b[0m \u001b[0mnumpy\u001b[0m\u001b[0;34m.\u001b[0m\u001b[0marray\u001b[0m\u001b[0;34m(\u001b[0m\u001b[0;34m[\u001b[0m\u001b[0;34m[\u001b[0m\u001b[0;36m2\u001b[0m\u001b[0;34m,\u001b[0m \u001b[0;36m1\u001b[0m\u001b[0;34m]\u001b[0m\u001b[0;34m,\u001b[0m \u001b[0;34m[\u001b[0m\u001b[0;36m6\u001b[0m\u001b[0;34m,\u001b[0m \u001b[0;36m3\u001b[0m\u001b[0;34m]\u001b[0m\u001b[0;34m]\u001b[0m\u001b[0;34m)\u001b[0m\u001b[0;34m\u001b[0m\u001b[0;34m\u001b[0m\u001b[0m\n\u001b[0m\u001b[1;32m      3\u001b[0m \u001b[0mb\u001b[0m \u001b[0;34m=\u001b[0m \u001b[0mnumpy\u001b[0m\u001b[0;34m.\u001b[0m\u001b[0marray\u001b[0m\u001b[0;34m(\u001b[0m\u001b[0;34m[\u001b[0m\u001b[0;36m1\u001b[0m\u001b[0;34m,\u001b[0m \u001b[0;36m3\u001b[0m\u001b[0;34m]\u001b[0m\u001b[0;34m)\u001b[0m\u001b[0;34m\u001b[0m\u001b[0;34m\u001b[0m\u001b[0m\n\u001b[1;32m      4\u001b[0m \u001b[0;34m\u001b[0m\u001b[0m\n\u001b[1;32m      5\u001b[0m \u001b[0mprint\u001b[0m\u001b[0;34m(\u001b[0m\u001b[0mnumpy\u001b[0m\u001b[0;34m.\u001b[0m\u001b[0mlinalg\u001b[0m\u001b[0;34m.\u001b[0m\u001b[0msolve\u001b[0m\u001b[0;34m(\u001b[0m\u001b[0mA\u001b[0m\u001b[0;34m,\u001b[0m\u001b[0mb\u001b[0m\u001b[0;34m)\u001b[0m\u001b[0;34m)\u001b[0m\u001b[0;34m\u001b[0m\u001b[0;34m\u001b[0m\u001b[0m\n",
            "\u001b[0;31mNameError\u001b[0m: name 'numpy' is not defined"
          ]
        }
      ],
      "source": [
        "# dependent system\n",
        "A = numpy.array([[2, 1], [6, 3]])\n",
        "b = numpy.array([1, 3])\n",
        "\n",
        "print(numpy.linalg.solve(A,b))"
      ]
    },
    {
      "cell_type": "markdown",
      "metadata": {
        "id": "AHiNxV9O4YC0"
      },
      "source": [
        "Note that the code throws an error because the matrix $\\mathbf{A}$ is singular since the system is dependent--i.e. there are infinitely many solutions, as we can confirm below."
      ]
    },
    {
      "cell_type": "code",
      "execution_count": null,
      "metadata": {
        "id": "l5tnsZw44YC0",
        "outputId": "c1e4e573-ca35-4540-9496-2751e1d27ca4"
      },
      "outputs": [
        {
          "name": "stdout",
          "output_type": "stream",
          "text": [
            "0.0\n"
          ]
        }
      ],
      "source": [
        "A = numpy.array([[2, 1], [6, 3]])\n",
        "print(numpy.linalg.det(A))"
      ]
    },
    {
      "cell_type": "markdown",
      "metadata": {
        "id": "P5WPLxy64YC0"
      },
      "source": [
        "### Example: 10-by-10 Linear System (with `NumPy`)"
      ]
    },
    {
      "cell_type": "code",
      "execution_count": null,
      "metadata": {
        "id": "vY6msJpW4YC0",
        "outputId": "6f37b112-c83f-4cca-ecb4-57109362e60b"
      },
      "outputs": [
        {
          "name": "stdout",
          "output_type": "stream",
          "text": [
            "[ 0.09118027 -1.51451319 -2.48186344 -2.94076307  0.07912968  2.76425416\n",
            "  2.48851394 -0.30974375 -1.97943716  0.75619575]\n"
          ]
        },
        {
          "data": {
            "text/plain": [
              "2.1538326677728037e-14"
            ]
          },
          "execution_count": 21,
          "metadata": {},
          "output_type": "execute_result"
        }
      ],
      "source": [
        "import numpy\n",
        "\n",
        "numpy.random.seed(1)\n",
        "\n",
        "# Create A and b matrices with random\n",
        "A = 10*numpy.random.rand(10,10)-5\n",
        "b = 10*numpy.random.rand(10)-5\n",
        "\n",
        "# Solve Ax = b\n",
        "solution = numpy.linalg.solve(A,b)\n",
        "print(solution)\n",
        "\n",
        "# To verify the solution works, show Ax - b is near 0\n",
        "sum(abs(numpy.dot(A,solution) - b))"
      ]
    },
    {
      "cell_type": "markdown",
      "source": [
        "Write python code in Google Colab for the following. You are allowed to use any GenAI to guide you. For each question, you may use different image.\n",
        "\n",
        "1. Load any creative common image from wikipedia. Enlarge the image double of its size.\n",
        "\n",
        "2. Transpose the image 90 degree\n",
        "\n",
        "3. https://vignette.wikia.nocookie.net/gameofthrones/images/2/25/707_Daenerys_Profil.jpg/revision/latest?cb=20170829215522&path-prefix=de  remove the background of the image. ONLY maintain the character\n",
        "\n",
        "4. Find 2 creative common images online. Combine these 2 images side by side vertically. Export it as Jpg\n",
        "\n",
        "5. Change the image colour to gray tone.\n",
        "\n",
        "6. Post the Google colab into your github/ practical -discrete-mathematics repository. Submit the github link in current webinar chat room\n"
      ],
      "metadata": {
        "id": "e-IrjaO7-Ln_"
      }
    },
    {
      "cell_type": "code",
      "source": [],
      "metadata": {
        "id": "L95bZGijHX0B"
      },
      "execution_count": null,
      "outputs": []
    }
  ],
  "metadata": {
    "kernelspec": {
      "display_name": "Python 3.7 (DL)",
      "language": "python",
      "name": "dl"
    },
    "language_info": {
      "codemirror_mode": {
        "name": "ipython",
        "version": 3
      },
      "file_extension": ".py",
      "mimetype": "text/x-python",
      "name": "python",
      "nbconvert_exporter": "python",
      "pygments_lexer": "ipython3",
      "version": "3.7.7"
    },
    "colab": {
      "provenance": []
    }
  },
  "nbformat": 4,
  "nbformat_minor": 0
}