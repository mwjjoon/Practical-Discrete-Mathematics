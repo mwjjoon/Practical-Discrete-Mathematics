{
  "cells": [
    {
      "cell_type": "markdown",
      "metadata": {
        "id": "vrXboUVq8nMN"
      },
      "source": [
        "# Chapter 7 - Computational Requirements for Algorithms\n",
        "\n",
        "This notebook contains code accompanying Chapter 7 Computational Requirements for Algorithms in *Practical Discrete Mathematics* by Ryan T. White and Archana Tikayat Ray.\n",
        "\n",
        "## Computational complexity of algorithms\n",
        "\n",
        "### Example: A simple algorithm"
      ]
    },
    {
      "cell_type": "code",
      "execution_count": 1,
      "metadata": {
        "id": "8IwovGox8nMP",
        "outputId": "ef93a087-0486-4a0e-a405-2f23a85e2191",
        "colab": {
          "base_uri": "https://localhost:8080/"
        }
      },
      "outputs": [
        {
          "output_type": "stream",
          "name": "stdout",
          "text": [
            "Please enter a fruit name: papaya\n",
            "The updated list is: ['Jackfruit', 'Honeydew', 'Grapes', 'papaya']\n",
            "Please enter the name of the fruit you want to delete: Honeydew\n",
            "The updated list is: ['Jackfruit', 'Grapes', 'papaya']\n"
          ]
        }
      ],
      "source": [
        "#Type of algorithm - inserting new element to pre-existing list\n",
        "fruit_name = [\"Jackfruit\", \"Honeydew\", \"Grapes\"]\n",
        "user_input1 = input(\"Please enter a fruit name: \")\n",
        "fruit_name.append(user_input1)\n",
        "print('The updated list is: ' + str(fruit_name))\n",
        "\n",
        "#Type of algorithm - deleting element from list\n",
        "user_input2 = input(\"Please enter the name of the fruit you want to delete: \")\n",
        "fruit_name.remove(user_input2)\n",
        "print('The updated list is: ' + str(fruit_name))"
      ]
    },
    {
      "cell_type": "markdown",
      "source": [
        "For the code snippet below, write a function to check whether the list contain the fruit name. If no, display \"no fruit name\" The function should be inside the same code snippet. Assume user key in 'honey' to be deleted from the list. Output: No fruit name."
      ],
      "metadata": {
        "id": "6Cw8CVty9QBP"
      }
    },
    {
      "cell_type": "code",
      "source": [
        "#Type of algorithm - inserting new element to pre-existing list\n",
        "fruit_name = [\"Jackfruit\", \"Honeydew\", \"Grapes\"]\n",
        "user_input1 = input(\"Please enter a fruit name: \")\n",
        "fruit_name.append(user_input1)\n",
        "if user_input1 in fruit_name:\n",
        "    print(\"The fruit name is in the list\")\n",
        "else:\n",
        "    print(\"No Fruit name\")\n",
        "\n",
        "#Type of algorithm - deleting element from list\n",
        "user_input2 = input(\"Please enter the name of the fruit you want to delete: \")\n",
        "fruit_name.remove(user_input2)\n",
        "print('The updated list is: ' + str(fruit_name))\n"
      ],
      "metadata": {
        "id": "JiSVvuU7-Cb7",
        "outputId": "b9019a8c-ab32-4068-ea34-b613877a4456",
        "colab": {
          "base_uri": "https://localhost:8080/",
          "height": 406
        }
      },
      "execution_count": 4,
      "outputs": [
        {
          "output_type": "stream",
          "name": "stdout",
          "text": [
            "Please enter a fruit name: asd\n",
            "The fruit name is in the list\n"
          ]
        },
        {
          "output_type": "error",
          "ename": "KeyboardInterrupt",
          "evalue": "Interrupted by user",
          "traceback": [
            "\u001b[0;31m---------------------------------------------------------------------------\u001b[0m",
            "\u001b[0;31mKeyboardInterrupt\u001b[0m                         Traceback (most recent call last)",
            "\u001b[0;32m<ipython-input-4-d284b30c7793>\u001b[0m in \u001b[0;36m<cell line: 11>\u001b[0;34m()\u001b[0m\n\u001b[1;32m      9\u001b[0m \u001b[0;34m\u001b[0m\u001b[0m\n\u001b[1;32m     10\u001b[0m \u001b[0;31m#Type of algorithm - deleting element from list\u001b[0m\u001b[0;34m\u001b[0m\u001b[0;34m\u001b[0m\u001b[0m\n\u001b[0;32m---> 11\u001b[0;31m \u001b[0muser_input2\u001b[0m \u001b[0;34m=\u001b[0m \u001b[0minput\u001b[0m\u001b[0;34m(\u001b[0m\u001b[0;34m\"Please enter the name of the fruit you want to delete: \"\u001b[0m\u001b[0;34m)\u001b[0m\u001b[0;34m\u001b[0m\u001b[0;34m\u001b[0m\u001b[0m\n\u001b[0m\u001b[1;32m     12\u001b[0m \u001b[0mfruit_name\u001b[0m\u001b[0;34m.\u001b[0m\u001b[0mremove\u001b[0m\u001b[0;34m(\u001b[0m\u001b[0muser_input2\u001b[0m\u001b[0;34m)\u001b[0m\u001b[0;34m\u001b[0m\u001b[0;34m\u001b[0m\u001b[0m\n\u001b[1;32m     13\u001b[0m \u001b[0mprint\u001b[0m\u001b[0;34m(\u001b[0m\u001b[0;34m'The updated list is: '\u001b[0m \u001b[0;34m+\u001b[0m \u001b[0mstr\u001b[0m\u001b[0;34m(\u001b[0m\u001b[0mfruit_name\u001b[0m\u001b[0;34m)\u001b[0m\u001b[0;34m)\u001b[0m\u001b[0;34m\u001b[0m\u001b[0;34m\u001b[0m\u001b[0m\n",
            "\u001b[0;32m/usr/local/lib/python3.10/dist-packages/ipykernel/kernelbase.py\u001b[0m in \u001b[0;36mraw_input\u001b[0;34m(self, prompt)\u001b[0m\n\u001b[1;32m    849\u001b[0m                 \u001b[0;34m\"raw_input was called, but this frontend does not support input requests.\"\u001b[0m\u001b[0;34m\u001b[0m\u001b[0;34m\u001b[0m\u001b[0m\n\u001b[1;32m    850\u001b[0m             )\n\u001b[0;32m--> 851\u001b[0;31m         return self._input_request(str(prompt),\n\u001b[0m\u001b[1;32m    852\u001b[0m             \u001b[0mself\u001b[0m\u001b[0;34m.\u001b[0m\u001b[0m_parent_ident\u001b[0m\u001b[0;34m,\u001b[0m\u001b[0;34m\u001b[0m\u001b[0;34m\u001b[0m\u001b[0m\n\u001b[1;32m    853\u001b[0m             \u001b[0mself\u001b[0m\u001b[0;34m.\u001b[0m\u001b[0m_parent_header\u001b[0m\u001b[0;34m,\u001b[0m\u001b[0;34m\u001b[0m\u001b[0;34m\u001b[0m\u001b[0m\n",
            "\u001b[0;32m/usr/local/lib/python3.10/dist-packages/ipykernel/kernelbase.py\u001b[0m in \u001b[0;36m_input_request\u001b[0;34m(self, prompt, ident, parent, password)\u001b[0m\n\u001b[1;32m    893\u001b[0m             \u001b[0;32mexcept\u001b[0m \u001b[0mKeyboardInterrupt\u001b[0m\u001b[0;34m:\u001b[0m\u001b[0;34m\u001b[0m\u001b[0;34m\u001b[0m\u001b[0m\n\u001b[1;32m    894\u001b[0m                 \u001b[0;31m# re-raise KeyboardInterrupt, to truncate traceback\u001b[0m\u001b[0;34m\u001b[0m\u001b[0;34m\u001b[0m\u001b[0m\n\u001b[0;32m--> 895\u001b[0;31m                 \u001b[0;32mraise\u001b[0m \u001b[0mKeyboardInterrupt\u001b[0m\u001b[0;34m(\u001b[0m\u001b[0;34m\"Interrupted by user\"\u001b[0m\u001b[0;34m)\u001b[0m \u001b[0;32mfrom\u001b[0m \u001b[0;32mNone\u001b[0m\u001b[0;34m\u001b[0m\u001b[0;34m\u001b[0m\u001b[0m\n\u001b[0m\u001b[1;32m    896\u001b[0m             \u001b[0;32mexcept\u001b[0m \u001b[0mException\u001b[0m \u001b[0;32mas\u001b[0m \u001b[0me\u001b[0m\u001b[0;34m:\u001b[0m\u001b[0;34m\u001b[0m\u001b[0;34m\u001b[0m\u001b[0m\n\u001b[1;32m    897\u001b[0m                 \u001b[0mself\u001b[0m\u001b[0;34m.\u001b[0m\u001b[0mlog\u001b[0m\u001b[0;34m.\u001b[0m\u001b[0mwarning\u001b[0m\u001b[0;34m(\u001b[0m\u001b[0;34m\"Invalid Message:\"\u001b[0m\u001b[0;34m,\u001b[0m \u001b[0mexc_info\u001b[0m\u001b[0;34m=\u001b[0m\u001b[0;32mTrue\u001b[0m\u001b[0;34m)\u001b[0m\u001b[0;34m\u001b[0m\u001b[0;34m\u001b[0m\u001b[0m\n",
            "\u001b[0;31mKeyboardInterrupt\u001b[0m: Interrupted by user"
          ]
        }
      ]
    },
    {
      "cell_type": "markdown",
      "metadata": {
        "id": "f2cWhutQ8nMR"
      },
      "source": [
        "### Example: Execution Time"
      ]
    },
    {
      "cell_type": "code",
      "execution_count": null,
      "metadata": {
        "id": "6o0h_k278nMR",
        "outputId": "f73a0894-39d9-4716-c461-ff2197543362"
      },
      "outputs": [
        {
          "name": "stdin",
          "output_type": "stream",
          "text": [
            "Please input a number of your choice:  1\n"
          ]
        },
        {
          "name": "stdout",
          "output_type": "stream",
          "text": [
            "Yes No No No No No No No \n",
            "The time elapsed for this computation is: 0.3815207999999757seconds\n"
          ]
        }
      ],
      "source": [
        "# a is a list containing some numbers\n",
        "# We will compare the number input by user with the numbers in this list\n",
        "import timeit\n",
        "tic=timeit.default_timer()\n",
        "\n",
        "a=[1,2,3,4,5,6,7,8]\n",
        "\n",
        "INPUT = input(\"Please input a number of your choice: \")\n",
        "number = int(INPUT)\n",
        "\n",
        "for i in range(len(a)):\n",
        "    if a[i]== number:\n",
        "        print(\"Yes\", end=' ')\n",
        "    else:\n",
        "        print(\"No\", end=' ')\n",
        "\n",
        "print()\n",
        "\n",
        "toc=timeit.default_timer()\n",
        "time_elapsed = toc - tic\n",
        "\n",
        "print(\"The time elapsed for this computation is: \" + str(time_elapsed) + \"seconds\")"
      ]
    },
    {
      "cell_type": "markdown",
      "metadata": {
        "id": "R8NBBX198nMS"
      },
      "source": [
        "## Understanding Big-O Notation\n",
        "\n",
        "### Constant complexity O(constant)"
      ]
    },
    {
      "cell_type": "code",
      "execution_count": null,
      "metadata": {
        "id": "oIBtsrzb8nMS",
        "outputId": "43e6cfa2-fc73-4745-97c8-6b5289c2cbcf"
      },
      "outputs": [
        {
          "name": "stdout",
          "output_type": "stream",
          "text": [
            "The end result after running the algorithm is:8\n"
          ]
        }
      ],
      "source": [
        "#Constant complexity function\n",
        "def constant_complexity(list):\n",
        "    output = list[1] * list[1] * list[1]\n",
        "    print(\"The end result after running the algorithm is:\" + str(output))\n",
        "\n",
        "constant_complexity([1,2,3,4,5,6,7])"
      ]
    },
    {
      "cell_type": "markdown",
      "metadata": {
        "id": "hKtJJYWN8nMT"
      },
      "source": [
        "### Linear complexity $O(n)$"
      ]
    },
    {
      "cell_type": "code",
      "execution_count": null,
      "metadata": {
        "id": "qso2c9wF8nMT",
        "outputId": "065a4a0d-22cb-475a-a498-ca490afafd83"
      },
      "outputs": [
        {
          "name": "stdout",
          "output_type": "stream",
          "text": [
            "Iteration number 1\n",
            "Iteration number 2\n",
            "Iteration number 3\n",
            "Iteration number 4\n",
            "Iteration number 5\n",
            "Iteration number 6\n",
            "Iteration number 7\n"
          ]
        }
      ],
      "source": [
        "# Linear complexity\n",
        "def linear_complexity(list):\n",
        "    for i in list:\n",
        "        print(\"Iteration number \" + str(i))\n",
        "\n",
        "linear_complexity([1,2,3,4,5,6,7])"
      ]
    },
    {
      "cell_type": "markdown",
      "metadata": {
        "id": "ElmnjCrN8nMT"
      },
      "source": [
        "### Quadratic complexity $O(n^2)$"
      ]
    },
    {
      "cell_type": "code",
      "execution_count": null,
      "metadata": {
        "id": "W569WCBe8nMT",
        "outputId": "90b864cb-2200-40a8-ab80-88b1cf25fdd8"
      },
      "outputs": [
        {
          "name": "stdout",
          "output_type": "stream",
          "text": [
            "1\t|First for loop iteration: 1 \t| Second for loop iteration:1\n",
            "2\t|First for loop iteration: 1 \t| Second for loop iteration:2\n",
            "3\t|First for loop iteration: 1 \t| Second for loop iteration:3\n",
            "4\t|First for loop iteration: 1 \t| Second for loop iteration:4\n",
            "5\t|First for loop iteration: 2 \t| Second for loop iteration:1\n",
            "6\t|First for loop iteration: 2 \t| Second for loop iteration:2\n",
            "7\t|First for loop iteration: 2 \t| Second for loop iteration:3\n",
            "8\t|First for loop iteration: 2 \t| Second for loop iteration:4\n",
            "9\t|First for loop iteration: 3 \t| Second for loop iteration:1\n",
            "10\t|First for loop iteration: 3 \t| Second for loop iteration:2\n",
            "11\t|First for loop iteration: 3 \t| Second for loop iteration:3\n",
            "12\t|First for loop iteration: 3 \t| Second for loop iteration:4\n",
            "13\t|First for loop iteration: 4 \t| Second for loop iteration:1\n",
            "14\t|First for loop iteration: 4 \t| Second for loop iteration:2\n",
            "15\t|First for loop iteration: 4 \t| Second for loop iteration:3\n",
            "16\t|First for loop iteration: 4 \t| Second for loop iteration:4\n"
          ]
        }
      ],
      "source": [
        "#Quadratic complexity\n",
        "def quadratic_complexity(list):\n",
        "    count = 0\n",
        "    for i in list:\n",
        "        for j in list:\n",
        "            count += 1\n",
        "            print(str(count) + \"\\t|First for loop iteration: \" + str(i), '\\t|', \"Second for loop iteration:\" + str(j))\n",
        "\n",
        "quadratic_complexity([1,2,3,4])"
      ]
    },
    {
      "cell_type": "markdown",
      "metadata": {
        "id": "_stptUHz8nMT"
      },
      "source": [
        "### Complexity of complex functions"
      ]
    },
    {
      "cell_type": "code",
      "execution_count": null,
      "metadata": {
        "id": "maKUb59I8nMU",
        "outputId": "ceb037c9-6ee9-44f9-8c70-e7d7ff31d456"
      },
      "outputs": [
        {
          "name": "stdout",
          "output_type": "stream",
          "text": [
            "Step: 1 \t Hello World!\n",
            "Step: 2 \t Hello World!\n",
            "Step: 3 \t Hello World!\n",
            "Step: 4 \t Hello World!\n",
            "Step: 5 \t Hello World!\n",
            "Step: 6 \t Hello World!\n",
            "Step: 7 \t 1\n",
            "Step: 8 \t 2\n",
            "Step: 9 \t 3\n",
            "Step: 10 \t 4\n",
            "Step: 11 \t 1\n",
            "Step: 12 \t 2\n",
            "Step: 13 \t 3\n",
            "Step: 14 \t 4\n"
          ]
        }
      ],
      "source": [
        "#Complex function complexity\n",
        "def complex_func (list):\n",
        "    count = 0\n",
        "    for i in range(6):\n",
        "        count += 1\n",
        "        print(\"Step: \" + str(count) + \" \\t Hello World!\")\n",
        "\n",
        "    for j in list:\n",
        "        count += 1\n",
        "        print(\"Step: \" + str(count) + \" \\t \" + str(j))\n",
        "\n",
        "    for k in list:\n",
        "        count += 1\n",
        "        print(\"Step: \" + str(count) + \" \\t \" + str(k))\n",
        "\n",
        "complex_func([1,2,3,4])"
      ]
    },
    {
      "cell_type": "markdown",
      "metadata": {
        "id": "702V46ec8nMU"
      },
      "source": [
        "## Complexity of algorithms with fundamental control structures\n",
        "\n",
        "### `if`-`elif`-`else`"
      ]
    },
    {
      "cell_type": "code",
      "execution_count": null,
      "metadata": {
        "id": "f0g9xO1R8nMU",
        "outputId": "8c34a9f4-af80-43a3-9d97-f8f16ae0b96d"
      },
      "outputs": [
        {
          "name": "stdout",
          "output_type": "stream",
          "text": [
            "b is less than a\n"
          ]
        }
      ],
      "source": [
        "#Complexity of if-elif-else statements\n",
        "a = 10\n",
        "b = 5\n",
        "if b > a:\n",
        "    print(\"b is greater than a\")\n",
        "\n",
        "elif b < a:\n",
        "    print(\"b is less than a\")\n",
        "\n",
        "else:\n",
        "    print(\"a and b are equal\")"
      ]
    },
    {
      "cell_type": "markdown",
      "metadata": {
        "id": "HED_Qdh88nMU"
      },
      "source": [
        "### `for` Loops"
      ]
    },
    {
      "cell_type": "code",
      "execution_count": null,
      "metadata": {
        "id": "ucDHpImo8nMU",
        "outputId": "d4f6d808-e475-4e43-c40f-b6055dfe77d3"
      },
      "outputs": [
        {
          "name": "stdout",
          "output_type": "stream",
          "text": [
            "apple\n",
            "mango\n",
            "orange\n",
            "banana\n",
            "pomegranate\n"
          ]
        }
      ],
      "source": [
        "#For loop\n",
        "fruits = [\"apple\", \"mango\", \"orange\", \"banana\", \"pomegranate\"]\n",
        "\n",
        "for x in fruits:\n",
        "    print(x)"
      ]
    },
    {
      "cell_type": "markdown",
      "metadata": {
        "id": "x57VQI8G8nMU"
      },
      "source": [
        "### Nested `for` Loops"
      ]
    },
    {
      "cell_type": "code",
      "execution_count": null,
      "metadata": {
        "id": "_vp98IhW8nMV",
        "outputId": "9b780095-fe5a-4111-f4f2-eaa0083295cc"
      },
      "outputs": [
        {
          "name": "stdout",
          "output_type": "stream",
          "text": [
            "tasty apple\n",
            "tasty mango\n",
            "tasty orange\n",
            "tasty banana\n",
            "tasty pomegranate\n",
            "juicy apple\n",
            "juicy mango\n",
            "juicy orange\n",
            "juicy banana\n",
            "juicy pomegranate\n",
            "fresh apple\n",
            "fresh mango\n",
            "fresh orange\n",
            "fresh banana\n",
            "fresh pomegranate\n"
          ]
        }
      ],
      "source": [
        "#Nested for loop\n",
        "fruits = [\"apple\", \"mango\", \"orange\", \"banana\", \"pomegranate\"]\n",
        "adjectives = [\"tasty\", \"juicy\", \"fresh\"]\n",
        "\n",
        "for y in adjectives:\n",
        "    for x in fruits:\n",
        "        print(y, x)"
      ]
    },
    {
      "cell_type": "markdown",
      "metadata": {
        "id": "p7QUV3PJ8nMV"
      },
      "source": [
        "### `while` Loops"
      ]
    },
    {
      "cell_type": "code",
      "execution_count": null,
      "metadata": {
        "id": "fCCbW5bj8nMV",
        "outputId": "7ce61e8c-3a40-4e68-8c9a-9a31fc2cbeb4"
      },
      "outputs": [
        {
          "name": "stdout",
          "output_type": "stream",
          "text": [
            "Step: 1 The condition is satisfied\n",
            "Step: 2 The condition is satisfied\n",
            "Step: 3 The condition is satisfied\n",
            "Step: 4 The condition is satisfied\n",
            "Step: 5 The condition is satisfied\n",
            "Step: 6 The condition is satisfied\n",
            "Step: 7 The condition is satisfied\n",
            "Step: 8 The condition is satisfied\n",
            "Step: 9 The condition is satisfied\n"
          ]
        }
      ],
      "source": [
        "#While loop\n",
        "i = 1\n",
        "while i < 10:\n",
        "    print(\"Step: \" + str(i) + \" The condition is satisfied\")\n",
        "    i += 1"
      ]
    },
    {
      "cell_type": "markdown",
      "metadata": {
        "id": "oltweYno8nMV"
      },
      "source": [
        "## Complexity of common search algorithms\n",
        "\n",
        "### Linear search algorithm"
      ]
    },
    {
      "cell_type": "code",
      "execution_count": null,
      "metadata": {
        "id": "S_kmMdRT8nMV",
        "outputId": "5b6af7e7-b68e-4020-a8df-de4de06bb999"
      },
      "outputs": [
        {
          "name": "stdin",
          "output_type": "stream",
          "text": [
            "Please input a number of your choice:  5\n"
          ]
        },
        {
          "name": "stdout",
          "output_type": "stream",
          "text": [
            "False \n",
            "False \n",
            "False \n",
            "False \n",
            "True \n",
            "False \n",
            "False \n",
            "False \n"
          ]
        }
      ],
      "source": [
        "def linear_search(input):\n",
        "    lists = [1, 2, 3, 4, 5, 6, 7, 8]\n",
        "    number = int(input)\n",
        "\n",
        "    for i in range(len(lists)):\n",
        "        if lists[i] == number:\n",
        "            print(\"True\", end=' ')\n",
        "\n",
        "        else:\n",
        "            print(\"False\", end=' ')\n",
        "\n",
        "        print()\n",
        "\n",
        "INPUT = input(\"Please input a number of your choice: \")\n",
        "linear_search(INPUT)"
      ]
    },
    {
      "cell_type": "markdown",
      "metadata": {
        "id": "o7EkITmW8nMW"
      },
      "source": [
        "### Binary search algorithm"
      ]
    },
    {
      "cell_type": "code",
      "execution_count": null,
      "metadata": {
        "id": "uuHpDSQb8nMW",
        "outputId": "72555b04-1d4a-4c0f-c082-21552e8f7919"
      },
      "outputs": [
        {
          "name": "stdout",
          "output_type": "stream",
          "text": [
            "Target element is present at index 9 of the list\n"
          ]
        }
      ],
      "source": [
        "# Returns index of target (x) if present in the list\n",
        "def binary_search(list, l, r, target_value):\n",
        "    # Check base case\n",
        "    if r >= l:\n",
        "        mid_index = l + (r - l) // 2\n",
        "\n",
        "        # If target element matches with the mid-element of the list\n",
        "        if list[mid_index] == target_value:\n",
        "            return mid_index\n",
        "\n",
        "        # If element is smaller than mid-element, then it can only be present in the left sublist\n",
        "        elif list[mid_index] > target_value:\n",
        "            return binary_search(list, l, mid_index - 1, target_value)\n",
        "\n",
        "        # Else the element can only be present in the right sub-list\n",
        "        else:\n",
        "            return binary_search(list, mid_index + 1, r, target_value)\n",
        "\n",
        "    else:\n",
        "        # Element is not present in the array\n",
        "        return -1\n",
        "\n",
        "# Test list\n",
        "list = [10, 20, 30, 40, 50, 60, 70, 80, 90, 100]\n",
        "target_value = 100\n",
        "\n",
        "# Function call\n",
        "result = binary_search(list, 0, len(list) - 1, target_value)\n",
        "\n",
        "if result != -1:\n",
        "    print(\"Target element is present at index \" + str(result) + \" of the list\")\n",
        "\n",
        "else:\n",
        "    print(\"Target element is not present in list\")"
      ]
    }
  ],
  "metadata": {
    "kernelspec": {
      "display_name": "Python 3.7 (DL)",
      "language": "python",
      "name": "dl"
    },
    "language_info": {
      "codemirror_mode": {
        "name": "ipython",
        "version": 3
      },
      "file_extension": ".py",
      "mimetype": "text/x-python",
      "name": "python",
      "nbconvert_exporter": "python",
      "pygments_lexer": "ipython3",
      "version": "3.7.7"
    },
    "colab": {
      "provenance": []
    }
  },
  "nbformat": 4,
  "nbformat_minor": 0
}