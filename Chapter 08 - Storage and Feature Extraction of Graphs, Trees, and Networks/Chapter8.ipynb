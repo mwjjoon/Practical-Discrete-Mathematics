{
  "cells": [
    {
      "cell_type": "markdown",
      "metadata": {
        "id": "qKg5Sm-9EQCs"
      },
      "source": [
        "# Chapter 8 - Storage and Feature Extraction of Graphs, Trees, and Networks\n",
        "\n",
        "This notebook contains code accompanying Chapter 8 Storage and Feature Extraction of Graphs, Trees, and Networks in *Practical Discrete Mathematics* by Ryan T. White and Archana Tikayat Ray.\n",
        "\n",
        "## Storage of Graphs and Networks\n",
        "\n",
        "Below are adjacency matrices for storing the graphs in Figure 8.1 and Figure 8.8 as well as an adjacency matrix for the directed graph in Figure 8.6."
      ]
    },
    {
      "cell_type": "code",
      "execution_count": null,
      "metadata": {
        "id": "YU-KRp_wEQCw",
        "outputId": "7bb5060a-56cc-4754-e6ef-465863cee5eb"
      },
      "outputs": [
        {
          "name": "stdout",
          "output_type": "stream",
          "text": [
            "A1 = [[0 1 1 0 1 0]\n",
            " [1 0 1 1 0 1]\n",
            " [1 1 0 1 1 0]\n",
            " [0 1 1 0 1 0]\n",
            " [1 0 1 1 0 0]\n",
            " [0 1 0 0 0 0]]\n",
            "\n",
            " A2 = [[0 1 0 0 0 0]\n",
            " [1 0 0 0 0 1]\n",
            " [0 0 0 1 1 0]\n",
            " [0 0 1 0 1 0]\n",
            " [0 0 1 1 0 0]\n",
            " [0 1 0 0 0 0]]\n",
            "\n",
            " A3 = [[0 0 1 0 0 0]\n",
            " [1 0 0 0 0 1]\n",
            " [0 0 0 0 1 0]\n",
            " [0 1 1 0 1 0]\n",
            " [1 0 1 1 0 0]\n",
            " [0 0 0 0 0 1]]\n"
          ]
        }
      ],
      "source": [
        "import numpy\n",
        "\n",
        "# Create an adjacency matrix for the graph in Figure 8.1\n",
        "A1 = numpy.array([[0, 1, 1, 0, 1, 0], [1, 0, 1, 1, 0, 1],\n",
        "                 [1, 1, 0, 1, 1, 0], [0, 1, 1, 0, 1, 0],\n",
        "                 [1, 0, 1, 1, 0, 0], [0, 1, 0, 0, 0, 0]])\n",
        "\n",
        "# Create an adjacency matrix for the graph in Figure 8.8\n",
        "A2 = numpy.array([[0, 1, 0, 0, 0, 0], [1, 0, 0, 0, 0, 1],\n",
        "                 [0, 0, 0, 1, 1, 0], [0, 0, 1, 0, 1, 0],\n",
        "                 [0, 0, 1, 1, 0, 0], [0, 1, 0, 0, 0, 0]])\n",
        "\n",
        "# Create an adjacency matrix for the directed graph in Figure 8.6\n",
        "A3 = numpy.array([[0, 0, 1, 0, 0, 0], [1, 0, 0, 0, 0, 1],\n",
        "                 [0, 0, 0, 0, 1, 0], [0, 1, 1, 0, 1, 0],\n",
        "                 [1, 0, 1, 1, 0, 0], [0, 0, 0, 0, 0, 1]])\n",
        "\n",
        "# print the adjacency matrices\n",
        "print(\"A1 =\", A1)\n",
        "print(\"\\n A2 =\", A2)\n",
        "print(\"\\n A3 =\", A3)"
      ]
    },
    {
      "cell_type": "markdown",
      "metadata": {
        "id": "pDlf_expEQCz"
      },
      "source": [
        "Below are weight matrices for the networks in Figure 8.5 and Figure 8.7."
      ]
    },
    {
      "cell_type": "code",
      "execution_count": null,
      "metadata": {
        "id": "jBLUnWJVEQCz",
        "outputId": "689e8b8d-df80-4a60-c897-19d532792114"
      },
      "outputs": [
        {
          "name": "stdout",
          "output_type": "stream",
          "text": [
            "W1 = [[0 4 1 0 2 0]\n",
            " [4 0 2 1 0 1]\n",
            " [1 2 0 1 1 0]\n",
            " [0 1 1 0 2 0]\n",
            " [2 0 1 2 0 0]\n",
            " [0 1 0 0 0 0]]\n",
            "\n",
            " W2 = [[0 0 2 0 0 0]\n",
            " [1 0 0 0 0 2]\n",
            " [0 0 0 0 2 0]\n",
            " [0 2 3 0 4 0]\n",
            " [3 0 1 1 0 0]\n",
            " [0 0 0 0 0 1]]\n"
          ]
        }
      ],
      "source": [
        "import numpy\n",
        "\n",
        "# Create a weight matrix for the network in Figure 8.5\n",
        "W1 = numpy.array([[0, 4, 1, 0, 2, 0], [4, 0, 2, 1, 0, 1],\n",
        "                 [1, 2, 0, 1, 1, 0], [0, 1, 1, 0, 2, 0],\n",
        "                 [2, 0, 1, 2, 0, 0], [0, 1, 0, 0, 0, 0]])\n",
        "\n",
        "# Create a weight matrix for the directed network in Figure 8.7\n",
        "W2 = numpy.array([[0, 0, 2, 0, 0, 0], [1, 0, 0, 0, 0, 2],\n",
        "                 [0, 0, 0, 0, 2, 0], [0, 2, 3, 0, 4, 0],\n",
        "                 [3, 0, 1, 1, 0, 0], [0, 0, 0, 0, 0, 1]])\n",
        "\n",
        "# Print the weight matrices\n",
        "print(\"W1 =\", W1)\n",
        "print(\"\\n W2 =\", W2)"
      ]
    },
    {
      "cell_type": "markdown",
      "metadata": {
        "id": "XD4q5jUBEQC0"
      },
      "source": [
        "## Feature Extraction of Graphs"
      ]
    },
    {
      "cell_type": "markdown",
      "metadata": {
        "id": "zz12aDeXEQC0"
      },
      "source": [
        "Below is how we can find the degrees of the vertices of the graph in Figure 8.1."
      ]
    },
    {
      "cell_type": "code",
      "execution_count": null,
      "metadata": {
        "id": "t8sNAYbSEQC0",
        "outputId": "198ea7d5-6bf9-428f-f38b-bc149f0b7af2"
      },
      "outputs": [
        {
          "name": "stdout",
          "output_type": "stream",
          "text": [
            "[3 4 4 3 3 1]\n",
            "[3 4 4 3 3 1]\n"
          ]
        }
      ],
      "source": [
        "# Find the degrees of each vertex of the graph in Figure 8.1\n",
        "\n",
        "# Using column sums\n",
        "print(numpy.sum(A1, axis=0))\n",
        "\n",
        "# Using row sums\n",
        "print(numpy.sum(A1, axis=1))"
      ]
    },
    {
      "cell_type": "markdown",
      "metadata": {
        "id": "a4mCnyUYEQC0"
      },
      "source": [
        "Below is how we can find the in-degrees and out-degrees of the vertices of the directed graph in Figure 8.6."
      ]
    },
    {
      "cell_type": "code",
      "execution_count": null,
      "metadata": {
        "id": "EAuBjVNIEQC0",
        "outputId": "4804fff7-35a7-479c-ad1b-6bb89c5f57d2"
      },
      "outputs": [
        {
          "name": "stdout",
          "output_type": "stream",
          "text": [
            "[1 2 1 3 3 1]\n",
            "[2 1 3 1 2 2]\n",
            "11\n",
            "11\n"
          ]
        }
      ],
      "source": [
        "# Find out-degrees for each vertex in the directed graph in Figure 8.6\n",
        "outdegrees = numpy.sum(A3, axis=1)\n",
        "print(outdegrees)\n",
        "\n",
        "# Find in-degrees for each vertex in the directed graph in Figure 8.6\n",
        "indegrees = numpy.sum(A3, axis=0)\n",
        "print(indegrees)\n",
        "\n",
        "print(numpy.sum(outdegrees))\n",
        "print(numpy.sum(indegrees))"
      ]
    },
    {
      "cell_type": "markdown",
      "metadata": {
        "id": "iiWraDxdEQC1"
      },
      "source": [
        "Below is code to find the second and third powers of the adjacency matrix of the graph from Figure 8.1. The number in row $i$, column $j$ of each power represents the number of 2-edge and 3-edge paths between vertex $v_{i-1}$ and $v_{j-1}$, respectively."
      ]
    },
    {
      "cell_type": "code",
      "execution_count": null,
      "metadata": {
        "id": "WQ53_X4UEQC1",
        "outputId": "9c6a5b6a-a154-4bc3-dd1b-c8249a5f469b"
      },
      "outputs": [
        {
          "name": "stdout",
          "output_type": "stream",
          "text": [
            "[[3 1 2 3 1 1]\n",
            " [1 4 2 1 3 0]\n",
            " [2 2 4 2 2 1]\n",
            " [3 1 2 3 1 1]\n",
            " [1 3 2 1 3 0]\n",
            " [1 0 1 1 0 1]]\n",
            "\n",
            " [[4 9 8 4 8 1]\n",
            " [9 4 9 9 4 4]\n",
            " [8 9 8 8 8 2]\n",
            " [4 9 8 4 8 1]\n",
            " [8 4 8 8 4 3]\n",
            " [1 4 2 1 3 0]]\n"
          ]
        }
      ],
      "source": [
        "# Find the second power of adjacency matrix A1\n",
        "print(numpy.linalg.matrix_power(A1,2))\n",
        "\n",
        "# Find the third power of adjacency matrix A1\n",
        "print(\"\\n\", numpy.linalg.matrix_power(A1,3))"
      ]
    },
    {
      "cell_type": "markdown",
      "metadata": {
        "id": "PbP_KDZtEQC1"
      },
      "source": [
        "The code below finds the number of paths between several pairs of vertices of different lengths for the directed graph in Figure 8.8."
      ]
    },
    {
      "cell_type": "code",
      "execution_count": null,
      "metadata": {
        "id": "qCQKUoZnEQC2",
        "outputId": "18ab1bc0-fc40-43b5-bdd4-64a06f0ecbb6"
      },
      "outputs": [
        {
          "name": "stdout",
          "output_type": "stream",
          "text": [
            "There are 0 paths of length 1 from v1 to v6\n",
            "There are 1 paths of length 2 from v1 to v6\n",
            "There are 0 paths of length 3 from v1 to v6\n",
            "There are 2 paths of length 4 from v1 to v6\n",
            "There are 0 paths of length 5 from v1 to v6\n",
            "There are 4 paths of length 6 from v1 to v6\n",
            "There are 0 paths of length 1 from v2 to v3\n",
            "There are 0 paths of length 2 from v2 to v3\n",
            "There are 0 paths of length 3 from v2 to v3\n",
            "There are 0 paths of length 4 from v2 to v3\n",
            "There are 0 paths of length 5 from v2 to v3\n",
            "There are 0 paths of length 6 from v2 to v3\n"
          ]
        }
      ],
      "source": [
        "# Print the number of paths from v1 to v6 of each length from 1 to 6\n",
        "for counter in range(1,7):\n",
        "    A2counter = numpy.linalg.matrix_power(A2,counter)\n",
        "    print(\"There are\", A2counter[0,5], \"paths of length\", counter, \"from v1 to v6\")\n",
        "\n",
        "# Print the number of paths from v2 to v3 of each length from 1 to 6\n",
        "for counter in range(1,7):\n",
        "    A2counter = numpy.linalg.matrix_power(A2,counter)\n",
        "    print(\"There are\", A2counter[1,2], \"paths of length\", counter, \"from v2 to v3\")"
      ]
    },
    {
      "cell_type": "markdown",
      "source": [],
      "metadata": {
        "id": "x9yeE4f0GDO3"
      }
    },
    {
      "cell_type": "code",
      "source": [
        "# Print the number of paths from v1 to v6 of each length from 1 to 6\n",
        "for counter in range(1,7):\n",
        "    A2counter = numpy.linalg.matrix_power(A2,counter)\n",
        "    print(\"There are\", A2counter[0,5], \"paths of length\", counter, \"from v1 to v6\")\n",
        "\n",
        "# Print the number of paths from v2 to v3 of each length from 1 to 6\n",
        "for counter in range(1,7):\n",
        "    A3counter = numpy.linalg.matrix_power(A3,counter)\n",
        "    print(\"There are\", A3counter[1,2], \"paths of length\", counter, \"from v2 to v3\")"
      ],
      "metadata": {
        "id": "5WyVgJNyGW_V",
        "outputId": "db9e1cf2-2cce-477d-b594-8d449ecd2c2e",
        "colab": {
          "base_uri": "https://localhost:8080/",
          "height": 219
        }
      },
      "execution_count": 16,
      "outputs": [
        {
          "output_type": "error",
          "ename": "NameError",
          "evalue": "name 'numpy' is not defined",
          "traceback": [
            "\u001b[0;31m---------------------------------------------------------------------------\u001b[0m",
            "\u001b[0;31mNameError\u001b[0m                                 Traceback (most recent call last)",
            "\u001b[0;32m<ipython-input-16-5fa9435baf81>\u001b[0m in \u001b[0;36m<cell line: 2>\u001b[0;34m()\u001b[0m\n\u001b[1;32m      1\u001b[0m \u001b[0;31m# Print the number of paths from v1 to v6 of each length from 1 to 6\u001b[0m\u001b[0;34m\u001b[0m\u001b[0;34m\u001b[0m\u001b[0m\n\u001b[1;32m      2\u001b[0m \u001b[0;32mfor\u001b[0m \u001b[0mcounter\u001b[0m \u001b[0;32min\u001b[0m \u001b[0mrange\u001b[0m\u001b[0;34m(\u001b[0m\u001b[0;36m1\u001b[0m\u001b[0;34m,\u001b[0m\u001b[0;36m7\u001b[0m\u001b[0;34m)\u001b[0m\u001b[0;34m:\u001b[0m\u001b[0;34m\u001b[0m\u001b[0;34m\u001b[0m\u001b[0m\n\u001b[0;32m----> 3\u001b[0;31m     \u001b[0mA2counter\u001b[0m \u001b[0;34m=\u001b[0m \u001b[0mnumpy\u001b[0m\u001b[0;34m.\u001b[0m\u001b[0mlinalg\u001b[0m\u001b[0;34m.\u001b[0m\u001b[0mmatrix_power\u001b[0m\u001b[0;34m(\u001b[0m\u001b[0mA2\u001b[0m\u001b[0;34m,\u001b[0m\u001b[0mcounter\u001b[0m\u001b[0;34m)\u001b[0m\u001b[0;34m\u001b[0m\u001b[0;34m\u001b[0m\u001b[0m\n\u001b[0m\u001b[1;32m      4\u001b[0m     \u001b[0mprint\u001b[0m\u001b[0;34m(\u001b[0m\u001b[0;34m\"There are\"\u001b[0m\u001b[0;34m,\u001b[0m \u001b[0mA2counter\u001b[0m\u001b[0;34m[\u001b[0m\u001b[0;36m0\u001b[0m\u001b[0;34m,\u001b[0m\u001b[0;36m5\u001b[0m\u001b[0;34m]\u001b[0m\u001b[0;34m,\u001b[0m \u001b[0;34m\"paths of length\"\u001b[0m\u001b[0;34m,\u001b[0m \u001b[0mcounter\u001b[0m\u001b[0;34m,\u001b[0m \u001b[0;34m\"from v1 to v6\"\u001b[0m\u001b[0;34m)\u001b[0m\u001b[0;34m\u001b[0m\u001b[0;34m\u001b[0m\u001b[0m\n\u001b[1;32m      5\u001b[0m \u001b[0;34m\u001b[0m\u001b[0m\n",
            "\u001b[0;31mNameError\u001b[0m: name 'numpy' is not defined"
          ]
        }
      ]
    },
    {
      "source": [
        "import numpy as np # import numpy and assign it to the alias 'np'\n",
        "\n",
        "# Print the number of paths from v1 to v6 of each length from 1 to 6\n",
        "for counter in range(1,7):\n",
        "    A2counter = np.linalg.matrix_power(A2,counter) # Use np to call the matrix_power function\n",
        "    print(\"There are\", A2counter[0,5], \"paths of length\", counter, \"from v1 to v6\")\n",
        "\n",
        "# Print the number of paths from v2 to v3 of each length from 1 to 6\n",
        "for counter in range(1,7):\n",
        "    A3counter = np.linalg.matrix_power(A3,counter) # Use np to call the matrix_power function\n",
        "    print(\"There are\", A3counter[1,2], \"paths of length\", counter, \"from v2 to v3\")"
      ],
      "cell_type": "code",
      "metadata": {
        "id": "mkVOGPj9IGAv",
        "outputId": "47628d1c-6fb6-4ac4-fe1f-f1efe4a90433",
        "colab": {
          "base_uri": "https://localhost:8080/",
          "height": 219
        }
      },
      "execution_count": 17,
      "outputs": [
        {
          "output_type": "error",
          "ename": "NameError",
          "evalue": "name 'A2' is not defined",
          "traceback": [
            "\u001b[0;31m---------------------------------------------------------------------------\u001b[0m",
            "\u001b[0;31mNameError\u001b[0m                                 Traceback (most recent call last)",
            "\u001b[0;32m<ipython-input-17-5e96b9ff0d8f>\u001b[0m in \u001b[0;36m<cell line: 4>\u001b[0;34m()\u001b[0m\n\u001b[1;32m      3\u001b[0m \u001b[0;31m# Print the number of paths from v1 to v6 of each length from 1 to 6\u001b[0m\u001b[0;34m\u001b[0m\u001b[0;34m\u001b[0m\u001b[0m\n\u001b[1;32m      4\u001b[0m \u001b[0;32mfor\u001b[0m \u001b[0mcounter\u001b[0m \u001b[0;32min\u001b[0m \u001b[0mrange\u001b[0m\u001b[0;34m(\u001b[0m\u001b[0;36m1\u001b[0m\u001b[0;34m,\u001b[0m\u001b[0;36m7\u001b[0m\u001b[0;34m)\u001b[0m\u001b[0;34m:\u001b[0m\u001b[0;34m\u001b[0m\u001b[0;34m\u001b[0m\u001b[0m\n\u001b[0;32m----> 5\u001b[0;31m     \u001b[0mA2counter\u001b[0m \u001b[0;34m=\u001b[0m \u001b[0mnp\u001b[0m\u001b[0;34m.\u001b[0m\u001b[0mlinalg\u001b[0m\u001b[0;34m.\u001b[0m\u001b[0mmatrix_power\u001b[0m\u001b[0;34m(\u001b[0m\u001b[0mA2\u001b[0m\u001b[0;34m,\u001b[0m\u001b[0mcounter\u001b[0m\u001b[0;34m)\u001b[0m \u001b[0;31m# Use np to call the matrix_power function\u001b[0m\u001b[0;34m\u001b[0m\u001b[0;34m\u001b[0m\u001b[0m\n\u001b[0m\u001b[1;32m      6\u001b[0m     \u001b[0mprint\u001b[0m\u001b[0;34m(\u001b[0m\u001b[0;34m\"There are\"\u001b[0m\u001b[0;34m,\u001b[0m \u001b[0mA2counter\u001b[0m\u001b[0;34m[\u001b[0m\u001b[0;36m0\u001b[0m\u001b[0;34m,\u001b[0m\u001b[0;36m5\u001b[0m\u001b[0;34m]\u001b[0m\u001b[0;34m,\u001b[0m \u001b[0;34m\"paths of length\"\u001b[0m\u001b[0;34m,\u001b[0m \u001b[0mcounter\u001b[0m\u001b[0;34m,\u001b[0m \u001b[0;34m\"from v1 to v6\"\u001b[0m\u001b[0;34m)\u001b[0m\u001b[0;34m\u001b[0m\u001b[0;34m\u001b[0m\u001b[0m\n\u001b[1;32m      7\u001b[0m \u001b[0;34m\u001b[0m\u001b[0m\n",
            "\u001b[0;31mNameError\u001b[0m: name 'A2' is not defined"
          ]
        }
      ]
    },
    {
      "source": [
        "import numpy as np # import numpy and assign it to the alias 'np'\n",
        "\n",
        "# Create an adjacency matrix for the graph in Figure 8.8\n",
        "A1 = np.array([[0, 1, 0, 0, 0, 0], [1, 0, 0, 0, 0, 1],\n",
        "                 [0, 0, 0, 1, 1, 0], [0, 0, 1, 0, 1, 0],\n",
        "                 [0, 0, 1, 1, 0, 0], [0, 1, 0, 0, 0, 0]])\n",
        "\n",
        "# Create an adjacency matrix for the directed graph in Figure 8.6\n",
        "A3 = np.array([[0, 0, 1, 0, 0, 0], [1, 0, 0, 0, 0, 1],\n",
        "                 [0, 0, 0, 0, 1, 0], [0, 1, 1, 0, 1, 0],\n",
        "                 [1, 0, 1, 1, 0, 0], [0, 0, 0, 0, 0, 1]])\n",
        "\n",
        "# Print the number of paths from v1 to v6 of each length from 1 to 6\n",
        "for counter in range(1,7):\n",
        "    A1counter = np.linalg.matrix_power(A1,counter) # Use np to call the matrix_power function\n",
        "    print(\"There are\", A1counter[0,5], \"paths of length\", counter, \"from w1 to w6\")\n",
        "\n",
        "# Print the number of paths from v2 to v3 of each length from 1 to 6\n",
        "for counter in range(1,7):\n",
        "    A3counter = np.linalg.matrix_power(A3,counter) # Use np to call the matrix_power function\n",
        "    print(\"There are\", A3counter[1,2], \"paths of length\", counter, \"from w2 to w3\")"
      ],
      "cell_type": "code",
      "metadata": {
        "id": "0yEnGklLIOVE",
        "outputId": "38f40df6-3ab9-4da8-b3bd-0b9d4d1950a8",
        "colab": {
          "base_uri": "https://localhost:8080/"
        }
      },
      "execution_count": 20,
      "outputs": [
        {
          "output_type": "stream",
          "name": "stdout",
          "text": [
            "There are 0 paths of length 1 from w1 to w6\n",
            "There are 1 paths of length 2 from w1 to w6\n",
            "There are 0 paths of length 3 from w1 to w6\n",
            "There are 2 paths of length 4 from w1 to w6\n",
            "There are 0 paths of length 5 from w1 to w6\n",
            "There are 4 paths of length 6 from w1 to w6\n",
            "There are 0 paths of length 1 from w2 to w3\n",
            "There are 1 paths of length 2 from w2 to w3\n",
            "There are 0 paths of length 3 from w2 to w3\n",
            "There are 1 paths of length 4 from w2 to w3\n",
            "There are 2 paths of length 5 from w2 to w3\n",
            "There are 2 paths of length 6 from w2 to w3\n"
          ]
        }
      ]
    },
    {
      "cell_type": "code",
      "source": [
        "import numpy as np # import numpy and assign it to the alias 'np'\n",
        "\n",
        "# Create an adjacency matrix for the graph in Figure 8.8\n",
        "W1 = np.array([[0, 1, 0, 0, 0, 0], [1, 0, 0, 0, 0, 1],\n",
        "                 [0, 0, 0, 1, 1, 0], [0, 0, 1, 0, 1, 0],\n",
        "                 [0, 0, 1, 1, 0, 0], [0, 1, 0, 0, 0, 0]])\n",
        "\n",
        "# Create an adjacency matrix for the directed graph in Figure 8.6\n",
        "W2 = np.array([[0, 0, 1, 0, 0, 0], [1, 0, 0, 0, 0, 1],\n",
        "                 [0, 0, 0, 0, 1, 0], [0, 1, 1, 0, 1, 0],\n",
        "                 [1, 0, 1, 1, 0, 0], [0, 0, 0, 0, 0, 1]])\n",
        "\n",
        "# Print the number of paths from v1 to v6 of each length from 1 to 6\n",
        "for counter in range(1,7):\n",
        "    W1counter = np.linalg.matrix_power(A1,counter) # Use np to call the matrix_power function\n",
        "    print(\"There are\", W1counter[0,5], \"paths of length\", counter, \"from V1 to V6\")\n",
        "\n",
        "# Print the number of paths from v2 to v3 of each length from 1 to 6\n",
        "for counter in range(1,7):\n",
        "    W2counter = np.linalg.matrix_power(A3,counter) # Use np to call the matrix_power function\n",
        "    print(\"There are\", A3counter[1,2], \"paths of length\", counter, \"from V2 to V3\")"
      ],
      "metadata": {
        "id": "sdLOBPoTJxLk",
        "outputId": "9099cfe4-55d2-4181-90c0-76aa28bfb39b",
        "colab": {
          "base_uri": "https://localhost:8080/"
        }
      },
      "execution_count": 21,
      "outputs": [
        {
          "output_type": "stream",
          "name": "stdout",
          "text": [
            "There are 0 paths of length 1 from V1 to V6\n",
            "There are 1 paths of length 2 from V1 to V6\n",
            "There are 0 paths of length 3 from V1 to V6\n",
            "There are 2 paths of length 4 from V1 to V6\n",
            "There are 0 paths of length 5 from V1 to V6\n",
            "There are 4 paths of length 6 from V1 to V6\n",
            "There are 2 paths of length 1 from V2 to V3\n",
            "There are 2 paths of length 2 from V2 to V3\n",
            "There are 2 paths of length 3 from V2 to V3\n",
            "There are 2 paths of length 4 from V2 to V3\n",
            "There are 2 paths of length 5 from V2 to V3\n",
            "There are 2 paths of length 6 from V2 to V3\n"
          ]
        }
      ]
    }
  ],
  "metadata": {
    "kernelspec": {
      "display_name": "Python 3",
      "name": "python3"
    },
    "language_info": {
      "name": "python"
    },
    "colab": {
      "provenance": []
    }
  },
  "nbformat": 4,
  "nbformat_minor": 0
}